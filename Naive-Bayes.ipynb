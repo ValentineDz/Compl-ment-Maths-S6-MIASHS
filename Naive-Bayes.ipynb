{
 "cells": [
  {
   "cell_type": "markdown",
   "id": "28a84437",
   "metadata": {},
   "source": [
    "# Naive Bayes with sklearn"
   ]
  },
  {
   "cell_type": "code",
   "execution_count": 1,
   "id": "42573148",
   "metadata": {},
   "outputs": [
    {
     "data": {
      "text/html": [
       "<div>\n",
       "<style scoped>\n",
       "    .dataframe tbody tr th:only-of-type {\n",
       "        vertical-align: middle;\n",
       "    }\n",
       "\n",
       "    .dataframe tbody tr th {\n",
       "        vertical-align: top;\n",
       "    }\n",
       "\n",
       "    .dataframe thead th {\n",
       "        text-align: right;\n",
       "    }\n",
       "</style>\n",
       "<table border=\"1\" class=\"dataframe\">\n",
       "  <thead>\n",
       "    <tr style=\"text-align: right;\">\n",
       "      <th></th>\n",
       "      <th>genre</th>\n",
       "      <th>danceability</th>\n",
       "      <th>duration_ms</th>\n",
       "      <th>instrumentalness</th>\n",
       "      <th>key</th>\n",
       "      <th>liveness</th>\n",
       "      <th>speechiness</th>\n",
       "      <th>tempo</th>\n",
       "      <th>mode</th>\n",
       "      <th>valence</th>\n",
       "    </tr>\n",
       "  </thead>\n",
       "  <tbody>\n",
       "    <tr>\n",
       "      <th>0</th>\n",
       "      <td>Rock</td>\n",
       "      <td>0.626561</td>\n",
       "      <td>0.418905</td>\n",
       "      <td>0.003211</td>\n",
       "      <td>10</td>\n",
       "      <td>0.031140</td>\n",
       "      <td>0.064748</td>\n",
       "      <td>0.384348</td>\n",
       "      <td>0</td>\n",
       "      <td>0.173305</td>\n",
       "    </tr>\n",
       "    <tr>\n",
       "      <th>1</th>\n",
       "      <td>Rock</td>\n",
       "      <td>0.303303</td>\n",
       "      <td>0.241046</td>\n",
       "      <td>0.000000</td>\n",
       "      <td>1</td>\n",
       "      <td>0.084078</td>\n",
       "      <td>0.107696</td>\n",
       "      <td>0.639850</td>\n",
       "      <td>1</td>\n",
       "      <td>0.215285</td>\n",
       "    </tr>\n",
       "    <tr>\n",
       "      <th>2</th>\n",
       "      <td>Rock</td>\n",
       "      <td>0.506360</td>\n",
       "      <td>0.312728</td>\n",
       "      <td>0.000080</td>\n",
       "      <td>0</td>\n",
       "      <td>0.077308</td>\n",
       "      <td>0.068672</td>\n",
       "      <td>0.589810</td>\n",
       "      <td>1</td>\n",
       "      <td>0.228202</td>\n",
       "    </tr>\n",
       "    <tr>\n",
       "      <th>3</th>\n",
       "      <td>Rock</td>\n",
       "      <td>0.452678</td>\n",
       "      <td>0.416564</td>\n",
       "      <td>0.006166</td>\n",
       "      <td>1</td>\n",
       "      <td>0.061197</td>\n",
       "      <td>0.023763</td>\n",
       "      <td>0.729532</td>\n",
       "      <td>1</td>\n",
       "      <td>0.589882</td>\n",
       "    </tr>\n",
       "    <tr>\n",
       "      <th>4</th>\n",
       "      <td>Rock</td>\n",
       "      <td>0.691913</td>\n",
       "      <td>0.111424</td>\n",
       "      <td>0.000000</td>\n",
       "      <td>8</td>\n",
       "      <td>0.122665</td>\n",
       "      <td>0.074559</td>\n",
       "      <td>0.413965</td>\n",
       "      <td>1</td>\n",
       "      <td>0.822390</td>\n",
       "    </tr>\n",
       "  </tbody>\n",
       "</table>\n",
       "</div>"
      ],
      "text/plain": [
       "  genre  danceability  duration_ms  instrumentalness  key  liveness  \\\n",
       "0  Rock      0.626561     0.418905          0.003211   10  0.031140   \n",
       "1  Rock      0.303303     0.241046          0.000000    1  0.084078   \n",
       "2  Rock      0.506360     0.312728          0.000080    0  0.077308   \n",
       "3  Rock      0.452678     0.416564          0.006166    1  0.061197   \n",
       "4  Rock      0.691913     0.111424          0.000000    8  0.122665   \n",
       "\n",
       "   speechiness     tempo  mode   valence  \n",
       "0     0.064748  0.384348     0  0.173305  \n",
       "1     0.107696  0.639850     1  0.215285  \n",
       "2     0.068672  0.589810     1  0.228202  \n",
       "3     0.023763  0.729532     1  0.589882  \n",
       "4     0.074559  0.413965     1  0.822390  "
      ]
     },
     "execution_count": 1,
     "metadata": {},
     "output_type": "execute_result"
    }
   ],
   "source": [
    "import pandas as pd\n",
    "import numpy as np\n",
    "from matplotlib import pyplot as plt\n",
    "import seaborn as sns\n",
    "\n",
    "df = pd.read_csv(\"C:/Users/trist/Documents/Cours/L3_MIASHS/Compléments_maths/S2/Projet/spotifyMusicGenresClean.csv\")\n",
    "df.head()"
   ]
  },
  {
   "cell_type": "code",
   "execution_count": 2,
   "id": "8536aa21",
   "metadata": {},
   "outputs": [],
   "source": [
    "y = df.genre.values\n",
    "\n",
    "categorical_variables = [\"mode\", \"key\"]\n",
    "quantitative_variables = [\"danceability\",\"duration_ms\",\"instrumentalness\",\"liveness\",\"speechiness\",\"tempo\",\"valence\"]\n",
    "\n",
    "X = df[categorical_variables + quantitative_variables].values\n",
    "X_quantitative = df[quantitative_variables].values\n",
    "X_categorical = df[categorical_variables].values\n"
   ]
  },
  {
   "cell_type": "markdown",
   "id": "04fb5b60",
   "metadata": {},
   "source": [
    "## Working with quantitative data"
   ]
  },
  {
   "cell_type": "code",
   "execution_count": 4,
   "id": "15c0b96e",
   "metadata": {},
   "outputs": [],
   "source": [
    "from sklearn.naive_bayes import GaussianNB\n",
    "from sklearn.metrics import classification_report"
   ]
  },
  {
   "cell_type": "code",
   "execution_count": 5,
   "id": "680fcc07",
   "metadata": {},
   "outputs": [
    {
     "name": "stdout",
     "output_type": "stream",
     "text": [
      "======= Training\n",
      "======= Prediction\n",
      "======= Results\n",
      "              precision    recall  f1-score   support\n",
      "\n",
      "   Classical       0.94      0.96      0.95        48\n",
      "     Country       0.47      0.83      0.60        48\n",
      "         EDM       0.72      0.46      0.56        50\n",
      "         Rap       0.79      0.58      0.67        38\n",
      "        Rock       0.41      0.32      0.36        50\n",
      "\n",
      "    accuracy                           0.63       234\n",
      "   macro avg       0.66      0.63      0.63       234\n",
      "weighted avg       0.66      0.63      0.62       234\n",
      "\n"
     ]
    }
   ],
   "source": [
    "gaussian_nb = GaussianNB()\n",
    "\n",
    "print(\"======= Training\")\n",
    "gaussian_nb.fit(X_quantitative, y)\n",
    "\n",
    "print(\"======= Prediction\")\n",
    "predictions = gaussian_nb.predict(X_quantitative)\n",
    "\n",
    "print(\"======= Results\")\n",
    "print(classification_report(y, predictions))"
   ]
  },
  {
   "cell_type": "code",
   "execution_count": 6,
   "id": "e571de98",
   "metadata": {},
   "outputs": [],
   "source": [
    "predictions = gaussian_nb.predict_proba(X_quantitative)"
   ]
  },
  {
   "cell_type": "code",
   "execution_count": 7,
   "id": "9d430486-f263-4cb1-bede-c1ab5c764543",
   "metadata": {},
   "outputs": [
    {
     "data": {
      "image/png": "[encoded data removed]",
      "text/plain": [
       "<Figure size 640x480 with 1 Axes>"
      ]
     },
     "metadata": {},
     "output_type": "display_data"
    },
    {
     "data": {
      "image/png": "[encoded data removed]",
      "text/plain": [
       "<Figure size 640x480 with 1 Axes>"
      ]
     },
     "metadata": {},
     "output_type": "display_data"
    },
    {
     "data": {
      "image/png": "[encoded data removed]",
      "text/plain": [
       "<Figure size 640x480 with 1 Axes>"
      ]
     },
     "metadata": {},
     "output_type": "display_data"
    },
    {
     "data": {
      "image/png": "[encoded data removed]",
      "text/plain": [
       "<Figure size 640x480 with 1 Axes>"
      ]
     },
     "metadata": {},
     "output_type": "display_data"
    },
    {
     "data": {
      "image/png": "[encoded data removed]",
      "text/plain": [
       "<Figure size 640x480 with 1 Axes>"
      ]
     },
     "metadata": {},
     "output_type": "display_data"
    },
    {
     "data": {
      "image/png": "[encoded data removed]",
      "text/plain": [
       "<Figure size 640x480 with 1 Axes>"
      ]
     },
     "metadata": {},
     "output_type": "display_data"
    },
    {
     "data": {
      "image/png": "[encoded data removed]",
      "text/plain": [
       "<Figure size 640x480 with 1 Axes>"
      ]
     },
     "metadata": {},
     "output_type": "display_data"
    }
   ],
   "source": [
    "for ix, var in enumerate(X_quantitative.T):\n",
    "    plt.hist(var)\n",
    "    plt.title(f\"Variable {quantitative_variables[ix]}\")\n",
    "    plt.show()"
   ]
  },
  {
   "cell_type": "code",
   "execution_count": 56,
   "id": "7f78244a-fc4e-42af-a19f-964e4b4843d6",
   "metadata": {},
   "outputs": [],
   "source": [
    "gaussian_nb = GaussianNB()\n",
    "gaussian_nb.fit(X_quantitative,y)\n",
    "predictions = gaussian_nb.predict(X_quantitative)"
   ]
  },
  {
   "cell_type": "code",
   "execution_count": 8,
   "id": "881e7090-506e-47e3-aecf-9ec16e8b8309",
   "metadata": {},
   "outputs": [
    {
     "data": {
      "text/plain": [
       "<Axes: >"
      ]
     },
     "execution_count": 8,
     "metadata": {},
     "output_type": "execute_result"
    },
    {
     "data": {
      "image/png": "[encoded data removed]",
      "text/plain": [
       "<Figure size 640x480 with 2 Axes>"
      ]
     },
     "metadata": {},
     "output_type": "display_data"
    }
   ],
   "source": [
    "predicted_proba = gaussian_nb.predict_proba(X_quantitative)\n",
    "sns.heatmap(predicted_proba)"
   ]
  },
  {
   "cell_type": "code",
   "execution_count": 9,
   "id": "68f4c00b-39be-4eef-8d44-3e341d75dc70",
   "metadata": {},
   "outputs": [
    {
     "data": {
      "text/plain": [
       "array([[6.26560859e-01, 4.18905123e-01, 3.21063395e-03, ...,\n",
       "        6.47482014e-02, 3.84348263e-01, 1.73304629e-01],\n",
       "       [3.03302602e-01, 2.41046174e-01, 0.00000000e+00, ...,\n",
       "        1.07695662e-01, 6.39850273e-01, 2.15285253e-01],\n",
       "       [5.06360135e-01, 3.12728294e-01, 7.95501022e-05, ...,\n",
       "        6.86723349e-02, 5.89810329e-01, 2.28202368e-01],\n",
       "       ...,\n",
       "       [6.79075738e-01, 1.36866629e-01, 3.07770961e-06, ...,\n",
       "        2.65315021e-01, 3.23909906e-01, 2.13132400e-01],\n",
       "       [6.82576730e-01, 7.70019668e-02, 1.63599182e-04, ...,\n",
       "        9.15631131e-03, 4.85529842e-01, 6.40473628e-01],\n",
       "       [7.00081690e-01, 1.50704786e-01, 0.00000000e+00, ...,\n",
       "        7.17244386e-02, 4.78468715e-01, 6.22174381e-01]])"
      ]
     },
     "execution_count": 9,
     "metadata": {},
     "output_type": "execute_result"
    }
   ],
   "source": [
    "X_quantitative"
   ]
  },
  {
   "cell_type": "code",
   "execution_count": 10,
   "id": "bd2e4ad7-7ea7-4aab-a1c2-df7f29c8bb96",
   "metadata": {},
   "outputs": [
    {
     "data": {
      "text/plain": [
       "<matplotlib.collections.PathCollection at 0x116a87b41d0>"
      ]
     },
     "execution_count": 10,
     "metadata": {},
     "output_type": "execute_result"
    },
    {
     "data": {
      "image/png": "[encoded data removed]",
      "text/plain": [
       "<Figure size 640x480 with 1 Axes>"
      ]
     },
     "metadata": {},
     "output_type": "display_data"
    }
   ],
   "source": [
    "predicted_proba = gaussian_nb.predict_proba(X_quantitative)\n",
    "plt.scatter(X_quantitative[:,2], X_quantitative[:,3],c=predicted_proba[:,0])"
   ]
  },
  {
   "cell_type": "code",
   "execution_count": 11,
   "id": "d5a55e0f-dcfa-4d5c-afa4-59187a15401f",
   "metadata": {},
   "outputs": [
    {
     "name": "stdout",
     "output_type": "stream",
     "text": [
      "== Working with accuracy\n",
      "Mean accuracy: 0.4959296947271046\n",
      "Median accuracy: 0.5319148936170213\n",
      "== Working with precision\n",
      "Mean precision: 0.5555328798185941\n",
      "Median precision: 0.6333333333333333\n",
      "== Working with recall\n",
      "Mean recall: 0.4996666666666668\n",
      "Median recall: 0.5\n"
     ]
    }
   ],
   "source": [
    "from sklearn.model_selection import cross_val_score\n",
    "from sklearn.metrics import accuracy_score, precision_score, recall_score\n",
    "from sklearn.model_selection import cross_val_predict\n",
    "\n",
    "gaussian_nb = GaussianNB()\n",
    "\n",
    "print(f\"== Working with accuracy\")\n",
    "\n",
    "scores = cross_val_score(estimator=gaussian_nb, X=X_quantitative, y=y)\n",
    "print(f\"Mean accuracy: {np.mean(scores)}\")\n",
    "print(f\"Median accuracy: {np.median(scores)}\")\n",
    "\n",
    "\n",
    "y_pred = cross_val_predict(estimator=gaussian_nb, X=X_quantitative, y=y)\n",
    "\n",
    "# Calculer la précision et le rappel par classe\n",
    "\n",
    "print(f\"== Working with precision\")\n",
    "\n",
    "precision = precision_score(y, y_pred, average=None)\n",
    "\n",
    "print(f\"Mean precision: {np.mean(precision)}\")\n",
    "print(f\"Median precision: {np.median(precision)}\")\n",
    "\n",
    "print(f\"== Working with recall\")\n",
    "\n",
    "recall = recall_score(y, y_pred, average=None)\n",
    "\n",
    "print(f\"Mean recall: {np.mean(recall)}\")\n",
    "print(f\"Median recall: {np.median(recall)}\")\n"
   ]
  },
  {
   "cell_type": "markdown",
   "id": "538b5f16",
   "metadata": {},
   "source": [
    "## Working with qualitative data"
   ]
  },
  {
   "cell_type": "code",
   "execution_count": 12,
   "id": "4958bda3",
   "metadata": {},
   "outputs": [],
   "source": [
    "from sklearn.naive_bayes import CategoricalNB\n",
    "from sklearn.preprocessing import LabelEncoder"
   ]
  },
  {
   "cell_type": "code",
   "execution_count": 13,
   "id": "fbefa9f4",
   "metadata": {},
   "outputs": [],
   "source": [
    "encoder = LabelEncoder()\n",
    "encoded_vars = []\n",
    "for category in X_categorical.T:\n",
    "    encoded_vars.append(encoder.fit_transform(category))"
   ]
  },
  {
   "cell_type": "code",
   "execution_count": 14,
   "id": "c630e8d7",
   "metadata": {},
   "outputs": [],
   "source": [
    "X_cat = np.array(encoded_vars).T"
   ]
  },
  {
   "cell_type": "code",
   "execution_count": 15,
   "id": "d252bb0b",
   "metadata": {},
   "outputs": [
    {
     "name": "stdout",
     "output_type": "stream",
     "text": [
      "======= Training\n",
      "======= Prediction\n",
      "======= Results\n",
      "              precision    recall  f1-score   support\n",
      "\n",
      "   Classical       0.36      0.40      0.38        48\n",
      "     Country       0.38      0.48      0.42        48\n",
      "         EDM       0.40      0.54      0.46        50\n",
      "         Rap       0.43      0.16      0.23        38\n",
      "        Rock       0.46      0.36      0.40        50\n",
      "\n",
      "    accuracy                           0.40       234\n",
      "   macro avg       0.41      0.39      0.38       234\n",
      "weighted avg       0.41      0.40      0.39       234\n",
      "\n"
     ]
    }
   ],
   "source": [
    "gaussian_nb_categorical = CategoricalNB()\n",
    "\n",
    "print(\"======= Training\")\n",
    "gaussian_nb_categorical.fit(X_cat, y)\n",
    "\n",
    "print(\"======= Prediction\")\n",
    "predictions = gaussian_nb_categorical.predict(X_cat)\n",
    "\n",
    "print(\"======= Results\")\n",
    "print(classification_report(y, predictions))"
   ]
  },
  {
   "cell_type": "code",
   "execution_count": 32,
   "id": "a18f9e41-5e1b-4eb6-bfb5-5b839f589d17",
   "metadata": {},
   "outputs": [
    {
     "name": "stdout",
     "output_type": "stream",
     "text": [
      "== Working with accuracy\n",
      "Mean accuracy: 0.2649398704902868\n",
      "Median accuracy: 0.2765957446808511\n"
     ]
    }
   ],
   "source": [
    "from sklearn.model_selection import cross_val_score\n",
    "from sklearn.metrics import accuracy_score, precision_score, recall_score\n",
    "\n",
    "gaussian_nb = CategoricalNB()\n",
    "\n",
    "print(f\"== Working with accuracy\")\n",
    "\n",
    "scores = cross_val_score(estimator=gaussian_nb, X=X_cat, y=y)\n",
    "print(f\"Mean accuracy: {np.mean(scores)}\")\n",
    "print(f\"Median accuracy: {np.median(scores)}\")\n"
   ]
  },
  {
   "cell_type": "code",
   "execution_count": 17,
   "id": "7e901fcd-33f7-485b-8d16-a0f947497571",
   "metadata": {},
   "outputs": [
    {
     "data": {
      "text/plain": [
       "array([[6.26560859e-01, 4.18905123e-01, 3.21063395e-03, ...,\n",
       "        6.47482014e-02, 3.84348263e-01, 1.73304629e-01],\n",
       "       [3.03302602e-01, 2.41046174e-01, 0.00000000e+00, ...,\n",
       "        1.07695662e-01, 6.39850273e-01, 2.15285253e-01],\n",
       "       [5.06360135e-01, 3.12728294e-01, 7.95501022e-05, ...,\n",
       "        6.86723349e-02, 5.89810329e-01, 2.28202368e-01],\n",
       "       ...,\n",
       "       [6.79075738e-01, 1.36866629e-01, 3.07770961e-06, ...,\n",
       "        2.65315021e-01, 3.23909906e-01, 2.13132400e-01],\n",
       "       [6.82576730e-01, 7.70019668e-02, 1.63599182e-04, ...,\n",
       "        9.15631131e-03, 4.85529842e-01, 6.40473628e-01],\n",
       "       [7.00081690e-01, 1.50704786e-01, 0.00000000e+00, ...,\n",
       "        7.17244386e-02, 4.78468715e-01, 6.22174381e-01]])"
      ]
     },
     "execution_count": 17,
     "metadata": {},
     "output_type": "execute_result"
    }
   ],
   "source": [
    "X_quantitative"
   ]
  },
  {
   "cell_type": "code",
   "execution_count": 18,
   "id": "a9ce4a75-599c-40cc-9d9d-0b21a00b4235",
   "metadata": {},
   "outputs": [
    {
     "name": "stdout",
     "output_type": "stream",
     "text": [
      "Mean accuracy: 0.2649398704902868\n",
      "Median accuracy: 0.2765957446808511\n"
     ]
    }
   ],
   "source": [
    "from sklearn.preprocessing import KBinsDiscretizer\n",
    "\n",
    "kbins_discretizer = KBinsDiscretizer(n_bins=3)\n",
    "discrete_vars = kbins_discretizer.fit_transform(X_quantitative).todense()\n",
    "\n",
    "X_quanti_discrete = np.hstack([discrete_vars, X_cat])\n",
    "\n",
    "gaussian_nb = CategoricalNB()\n",
    "\n",
    "scores = cross_val_score(estimator=gaussian_nb, X=X_cat, y=y)\n",
    "print(f\"Mean accuracy: {np.mean(scores)}\")\n",
    "print(f\"Median accuracy: {np.median(scores)}\")"
   ]
  },
  {
   "cell_type": "markdown",
   "id": "bb6447f2",
   "metadata": {},
   "source": [
    "## Working with both data types"
   ]
  },
  {
   "cell_type": "code",
   "execution_count": 19,
   "id": "444a1114-81b0-40fb-8f82-9b0c289956d1",
   "metadata": {},
   "outputs": [
    {
     "name": "stdout",
     "output_type": "stream",
     "text": [
      "===== Accuracy using full dataset\n"
     ]
    },
    {
     "data": {
      "text/plain": [
       "0.41452991452991456"
      ]
     },
     "execution_count": 19,
     "metadata": {},
     "output_type": "execute_result"
    }
   ],
   "source": [
    "gaussian_nb_quanta = GaussianNB()\n",
    "gaussian_nb_quanta.fit(X_quantitative, y)\n",
    "gaussian_nb_categorical = CategoricalNB()\n",
    "gaussian_nb_categorical.fit(X_cat, y)\n",
    "\n",
    "gaussian_full = GaussianNB()\n",
    "proba_matrix = np.concatenate([gaussian_nb_quanta.predict_proba(X_quantitative)[:,0].reshape(-1,1), gaussian_nb_categorical.predict_proba(X_cat)[:,0].reshape(-1, 1)], axis=1)\n",
    "gaussian_full.fit(proba_matrix, y)\n",
    "\n",
    "print(\"===== Accuracy using full dataset\")\n",
    "gaussian_full.score(proba_matrix, y)"
   ]
  },
  {
   "cell_type": "code",
   "execution_count": 20,
   "id": "af822841",
   "metadata": {},
   "outputs": [],
   "source": [
    "# Next step to do: use train / test or cross val approach using this method."
   ]
  },
  {
   "cell_type": "code",
   "execution_count": 21,
   "id": "d18f1a1f-7e74-446b-a313-a9ae03789389",
   "metadata": {},
   "outputs": [],
   "source": [
    "from sklearn.model_selection import train_test_split\n",
    "\n",
    "X_train, X_test, y_train, y_test = train_test_split(X_quantitative, y, test_size=0.3, stratify=y)"
   ]
  },
  {
   "cell_type": "code",
   "execution_count": 23,
   "id": "4b7b3647-5673-4104-be6e-f0e606b58437",
   "metadata": {},
   "outputs": [
    {
     "name": "stdout",
     "output_type": "stream",
     "text": [
      "======= Training\n",
      "======= Prediction\n",
      "======= Results\n",
      "              precision    recall  f1-score   support\n",
      "\n",
      "   Classical       0.88      1.00      0.94        15\n",
      "     Country       0.34      0.73      0.47        15\n",
      "         EDM       0.75      0.20      0.32        15\n",
      "         Rap       0.83      0.45      0.59        11\n",
      "        Rock       0.42      0.33      0.37        15\n",
      "\n",
      "    accuracy                           0.55        71\n",
      "   macro avg       0.65      0.54      0.54        71\n",
      "weighted avg       0.63      0.55      0.53        71\n",
      "\n"
     ]
    }
   ],
   "source": [
    "gaussian_nb = GaussianNB()\n",
    "\n",
    "print(\"======= Training\")\n",
    "gaussian_nb.fit(X_train, y_train)\n",
    "\n",
    "print(\"======= Prediction\")\n",
    "predictions = gaussian_nb.predict(X_test)\n",
    "\n",
    "print(\"======= Results\")\n",
    "print(classification_report(y_test, predictions))"
   ]
  },
  {
   "cell_type": "code",
   "execution_count": 26,
   "id": "ddf0f009-0000-4b43-9db5-5661fa39e8e1",
   "metadata": {},
   "outputs": [
    {
     "name": "stdout",
     "output_type": "stream",
     "text": [
      "== Working with accuracy\n",
      "Mean accuracy: 0.5066666666666666\n",
      "Median accuracy: 0.5\n",
      "== Working with precision\n",
      "Mean precision: 0.519888888888889\n",
      "Median precision: 0.4444444444444444\n",
      "== Working with recall\n",
      "Mean recall: 0.5139393939393939\n",
      "Median recall: 0.4666666666666667\n"
     ]
    }
   ],
   "source": [
    "gaussian_nb = GaussianNB()\n",
    "gaussian_nb.fit(X_train,y_train)\n",
    "predictions = gaussian_nb.predict(X_test)\n",
    "\n",
    "print(f\"== Working with accuracy\")\n",
    "\n",
    "scores = cross_val_score(estimator=gaussian_nb, X=X_test, y=y_test)\n",
    "print(f\"Mean accuracy: {np.mean(scores)}\")\n",
    "print(f\"Median accuracy: {np.median(scores)}\")\n",
    "\n",
    "\n",
    "y_pred = cross_val_predict(estimator=gaussian_nb, X=X_test, y=y_test)\n",
    "\n",
    "# Calculer la précision et le rappel par classe\n",
    "\n",
    "print(f\"== Working with precision\")\n",
    "\n",
    "precision = precision_score(y_test, y_pred, average=None)\n",
    "\n",
    "print(f\"Mean precision: {np.mean(precision)}\")\n",
    "print(f\"Median precision: {np.median(precision)}\")\n",
    "\n",
    "print(f\"== Working with recall\")\n",
    "\n",
    "recall = recall_score(y_test, y_pred, average=None)\n",
    "\n",
    "print(f\"Mean recall: {np.mean(recall)}\")\n",
    "print(f\"Median recall: {np.median(recall)}\")"
   ]
  },
  {
   "cell_type": "code",
   "execution_count": 84,
   "id": "ea8a6483-ac84-43fa-83ca-e83305537a16",
   "metadata": {},
   "outputs": [
    {
     "name": "stdout",
     "output_type": "stream",
     "text": [
      "['Rock' 'Country' 'Rock' 'Classical' 'EDM' 'Rap' 'Rock' 'EDM' 'EDM'\n",
      " 'Country' 'Classical' 'Rap' 'Country' 'Country' 'EDM' 'Rap' 'EDM' 'Rock'\n",
      " 'Rock' 'Country' 'Country' 'EDM' 'Rock' 'Rock' 'Country' 'Classical'\n",
      " 'Classical' 'Rap' 'Rock' 'Rap' 'EDM' 'Classical' 'Rap' 'Country'\n",
      " 'Classical' 'Classical' 'Rap' 'EDM' 'EDM' 'Country' 'Rock' 'Rock'\n",
      " 'Country' 'EDM' 'Country' 'EDM' 'Rap' 'Rap' 'Country' 'EDM' 'Rock' 'EDM'\n",
      " 'Country' 'Classical' 'Rap' 'Rap' 'EDM' 'Classical' 'Classical'\n",
      " 'Classical' 'Rock' 'Classical' 'EDM' 'Classical' 'Country' 'Rock'\n",
      " 'Classical' 'Country' 'Classical' 'Rock' 'Rock']\n",
      "-------\n",
      "['Country' 'Country' 'Country' 'Classical' 'Country' 'Rock' 'Country'\n",
      " 'Classical' 'Rap' 'Country' 'Classical' 'Country' 'Rock' 'Classical'\n",
      " 'Country' 'Rap' 'Rock' 'Country' 'Country' 'Country' 'Rock' 'Rock'\n",
      " 'Country' 'Country' 'Country' 'Classical' 'Classical' 'Rock' 'Rock'\n",
      " 'Country' 'Rock' 'Classical' 'Country' 'Country' 'Classical' 'Classical'\n",
      " 'Rap' 'Country' 'Rock' 'Rock' 'Country' 'Rock' 'Rock' 'Rock' 'Country'\n",
      " 'Rock' 'Rap' 'Rap' 'Rock' 'Rock' 'EDM' 'Country' 'Country' 'Classical'\n",
      " 'Rap' 'Rap' 'Country' 'Country' 'Classical' 'Classical' 'Rap' 'Classical'\n",
      " 'Rock' 'Classical' 'Rock' 'Country' 'Classical' 'Country' 'Classical'\n",
      " 'Country' 'Country']\n"
     ]
    }
   ],
   "source": [
    "print(y_test)\n",
    "print(\"-------\")\n",
    "print(y_pred)"
   ]
  },
  {
   "cell_type": "code",
   "execution_count": 27,
   "id": "a020428f-6b66-485b-94bf-b4939b6b9284",
   "metadata": {},
   "outputs": [],
   "source": [
    "encoder = LabelEncoder()\n",
    "encoded_vars = []\n",
    "for category in X_categorical.T:\n",
    "    encoded_vars.append(encoder.fit_transform(category))\n",
    "X_cat = np.array(encoded_vars).T"
   ]
  },
  {
   "cell_type": "code",
   "execution_count": 28,
   "id": "6caf6195-cbef-4d86-bef7-fab27267bf90",
   "metadata": {},
   "outputs": [],
   "source": [
    "# Train/test avec les variables categorielles\n",
    "\n",
    "X_train2, X_test2, y_train2, y_test2 = train_test_split(X_cat, y, test_size=0.3, stratify=y)"
   ]
  },
  {
   "cell_type": "code",
   "execution_count": 87,
   "id": "6eabd014-1216-46bb-870f-43390cf7fad6",
   "metadata": {},
   "outputs": [
    {
     "name": "stdout",
     "output_type": "stream",
     "text": [
      "======= Training\n",
      "======= Prediction\n",
      "======= Results\n",
      "              precision    recall  f1-score   support\n",
      "\n",
      "   Classical       0.43      0.20      0.27        15\n",
      "     Country       0.38      0.33      0.36        15\n",
      "         EDM       0.41      0.47      0.44        15\n",
      "         Rap       0.22      0.18      0.20        11\n",
      "        Rock       0.20      0.33      0.25        15\n",
      "\n",
      "    accuracy                           0.31        71\n",
      "   macro avg       0.33      0.30      0.30        71\n",
      "weighted avg       0.34      0.31      0.31        71\n",
      "\n"
     ]
    }
   ],
   "source": [
    "from sklearn.model_selection import cross_val_score\n",
    "from sklearn.metrics import accuracy_score, precision_score, recall_score\n",
    "\n",
    "gaussian_nb_categorical = CategoricalNB()\n",
    "\n",
    "print(\"======= Training\")\n",
    "gaussian_nb_categorical.fit(X_train2, y_train2)\n",
    "\n",
    "print(\"======= Prediction\")\n",
    "predictions = gaussian_nb_categorical.predict(X_test2)\n",
    "\n",
    "print(\"======= Results\")\n",
    "print(classification_report(y_test2, predictions))\n"
   ]
  },
  {
   "cell_type": "code",
   "execution_count": 29,
   "id": "890512d9-dc44-4fac-ae7a-fc1b18252628",
   "metadata": {},
   "outputs": [
    {
     "name": "stdout",
     "output_type": "stream",
     "text": [
      "== Working with accuracy\n",
      "Mean accuracy: 0.24\n",
      "Median accuracy: 0.21428571428571427\n",
      "== Working with precision\n",
      "Mean precision: 0.17741176470588238\n",
      "Median precision: 0.24\n",
      "== Working with recall\n",
      "Mean recall: 0.22666666666666666\n",
      "Median recall: 0.3333333333333333\n"
     ]
    }
   ],
   "source": [
    "from sklearn.model_selection import cross_val_score\n",
    "from sklearn.metrics import accuracy_score, precision_score, recall_score\n",
    "\n",
    "gaussian_nb = CategoricalNB()\n",
    "gaussian_nb.fit(X_train2,y_train2)\n",
    "predictions = gaussian_nb.predict(X_test2)\n",
    "\n",
    "print(f\"== Working with accuracy\")\n",
    "\n",
    "scores = cross_val_score(estimator=gaussian_nb, X=X_test2, y=y_test2)\n",
    "print(f\"Mean accuracy: {np.mean(scores)}\")\n",
    "print(f\"Median accuracy: {np.median(scores)}\")\n",
    "\n",
    "y_pred = cross_val_predict(estimator=gaussian_nb, X=X_test2, y=y_test2)\n",
    "\n",
    "# Calculer la précision et le rappel par classe\n",
    "\n",
    "print(f\"== Working with precision\")\n",
    "\n",
    "precision = precision_score(y_test2, y_pred, average=None)\n",
    "\n",
    "print(f\"Mean precision: {np.mean(precision)}\")\n",
    "print(f\"Median precision: {np.median(precision)}\")\n",
    "\n",
    "print(f\"== Working with recall\")\n",
    "\n",
    "recall = recall_score(y_test2, y_pred, average=None)\n",
    "\n",
    "print(f\"Mean recall: {np.mean(recall)}\")\n",
    "print(f\"Median recall: {np.median(recall)}\")\n"
   ]
  },
  {
   "cell_type": "code",
   "execution_count": 88,
   "id": "dfa0cb49-b2af-4e94-9658-70cc3114d6c4",
   "metadata": {},
   "outputs": [
    {
     "data": {
      "text/plain": [
       "array(['Classical', 'Country', 'Rock', 'Country', 'Rock', 'Rock', 'Rap',\n",
       "       'EDM', 'Rap', 'EDM', 'Country', 'Rap', 'Rap', 'Classical',\n",
       "       'Classical', 'Classical', 'Rap', 'Classical', 'Classical', 'Rap',\n",
       "       'Rap', 'Country', 'Country', 'EDM', 'Classical', 'EDM',\n",
       "       'Classical', 'Rap', 'EDM', 'EDM', 'Rock', 'EDM', 'Country',\n",
       "       'Country', 'Country', 'Classical', 'EDM', 'EDM', 'EDM',\n",
       "       'Classical', 'Rap', 'Classical', 'Rock', 'Rap', 'Classical',\n",
       "       'Country', 'Country', 'EDM', 'Rock', 'Classical', 'Rock',\n",
       "       'Country', 'Country', 'EDM', 'EDM', 'Rock', 'Rock', 'Country',\n",
       "       'EDM', 'Rock', 'Country', 'Rock', 'Rock', 'Rock', 'Classical',\n",
       "       'Classical', 'EDM', 'Rock', 'Rap', 'Rock', 'Country'], dtype=object)"
      ]
     },
     "execution_count": 88,
     "metadata": {},
     "output_type": "execute_result"
    }
   ],
   "source": [
    "y_test2"
   ]
  },
  {
   "cell_type": "code",
   "execution_count": 31,
   "id": "82e6a05a-f512-4781-a741-4649ef0def06",
   "metadata": {},
   "outputs": [
    {
     "name": "stdout",
     "output_type": "stream",
     "text": [
      "===== Accuracy using full dataset\n",
      "0.49295774647887325\n"
     ]
    }
   ],
   "source": [
    "#Train / test with full dataset \n",
    "\n",
    "X_trainc, X_testc, X_trainq, X_testq, y_train, y_test = train_test_split(X_cat, X_quantitative, y, test_size=0.3, stratify=y)\n",
    "\n",
    "gaussian_nb_quanta = GaussianNB()\n",
    "gaussian_nb_quanta.fit(X_trainq, y_train)\n",
    "gaussian_nb_categorical = CategoricalNB()\n",
    "gaussian_nb_categorical.fit(X_trainc, y_train)\n",
    "\n",
    "\n",
    "gaussian_full = GaussianNB()\n",
    "proba_matrix = np.concatenate([gaussian_nb_quanta.predict_proba(X_testq)[:,0].reshape(-1,1), gaussian_nb_categorical.predict_proba(X_testc)[:,0].reshape\n",
    "                               (-1, 1)], axis=1)\n",
    "gaussian_full.fit(proba_matrix, y_test)\n",
    "\n",
    "print(\"===== Accuracy using full dataset\")\n",
    "print(gaussian_full.score(proba_matrix, y_test))"
   ]
  },
  {
   "cell_type": "code",
   "execution_count": null,
   "id": "b7465ee4-a35a-45f0-ac27-7eea2cd35c5e",
   "metadata": {},
   "outputs": [],
   "source": []
  }
 ],
 "metadata": {
  "kernelspec": {
   "display_name": "Python 3 (ipykernel)",
   "language": "python",
   "name": "python3"
  },
  "language_info": {
   "codemirror_mode": {
    "name": "ipython",
    "version": 3
   },
   "file_extension": ".py",
   "mimetype": "text/x-python",
   "name": "python",
   "nbconvert_exporter": "python",
   "pygments_lexer": "ipython3",
   "version": "3.11.7"
  }
 },
 "nbformat": 4,
 "nbformat_minor": 5
}
